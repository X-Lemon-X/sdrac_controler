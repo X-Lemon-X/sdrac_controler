{
 "cells": [
  {
   "cell_type": "markdown",
   "metadata": {},
   "source": [
    "## Kinamtice equasion for 6 DOF robot arm\n",
    "1. Wyznaczenie kinamtyki robota według Denavit-Hartenberg\n",
    "\n",
    "<img src=\"images/kinematics.png\" alt=\"Description of image\" width=\"80%\">\n",
    "\n",
    "2. obliczenie transformat A0_1, A1_2, A2_3, A3_4, A4_5, A5_6, A0_6\n",
    "\n",
    "3. Olicznie macierzy reprezentującej RPY oraz wektora XYZ\n",
    "\n",
    "4. Olizcenie jakobianu "
   ]
  },
  {
   "cell_type": "code",
   "execution_count": 1,
   "metadata": {},
   "outputs": [
    {
     "data": {
      "text/plain": [
       "'Positions'"
      ]
     },
     "metadata": {},
     "output_type": "display_data"
    },
    {
     "data": {
      "text/latex": [
       "$\\displaystyle \\left[\\begin{matrix}l_{2} \\cos{\\left(q_{1} \\right)} \\cos{\\left(q_{2} \\right)} + l_{3} \\cos{\\left(q_{1} \\right)} \\cos{\\left(q_{2} + q_{3} \\right)} + l_{4} \\left(- \\left(\\sin{\\left(q_{1} \\right)} \\sin{\\left(q_{4} \\right)} + \\sin{\\left(q_{2} + q_{3} \\right)} \\cos{\\left(q_{1} \\right)} \\cos{\\left(q_{4} \\right)}\\right) \\sin{\\left(q_{5} \\right)} + \\cos{\\left(q_{1} \\right)} \\cos{\\left(q_{5} \\right)} \\cos{\\left(q_{2} + q_{3} \\right)}\\right)\\\\l_{2} \\sin{\\left(q_{1} \\right)} \\cos{\\left(q_{2} \\right)} + l_{3} \\sin{\\left(q_{1} \\right)} \\cos{\\left(q_{2} + q_{3} \\right)} + l_{4} \\left(- \\left(\\sin{\\left(q_{1} \\right)} \\sin{\\left(q_{2} + q_{3} \\right)} \\cos{\\left(q_{4} \\right)} - \\sin{\\left(q_{4} \\right)} \\cos{\\left(q_{1} \\right)}\\right) \\sin{\\left(q_{5} \\right)} + \\sin{\\left(q_{1} \\right)} \\cos{\\left(q_{5} \\right)} \\cos{\\left(q_{2} + q_{3} \\right)}\\right)\\\\l_{1} - l_{2} \\sin{\\left(q_{2} \\right)} - l_{3} \\sin{\\left(q_{2} + q_{3} \\right)} - l_{4} \\left(\\sin{\\left(q_{5} \\right)} \\cos{\\left(q_{4} \\right)} \\cos{\\left(q_{2} + q_{3} \\right)} + \\sin{\\left(q_{2} + q_{3} \\right)} \\cos{\\left(q_{5} \\right)}\\right)\\end{matrix}\\right]$"
      ],
      "text/plain": [
       "Matrix([\n",
       "[l2*cos(q1)*cos(q2) + l3*cos(q1)*cos(q2 + q3) + l4*(-(sin(q1)*sin(q4) + sin(q2 + q3)*cos(q1)*cos(q4))*sin(q5) + cos(q1)*cos(q5)*cos(q2 + q3))],\n",
       "[l2*sin(q1)*cos(q2) + l3*sin(q1)*cos(q2 + q3) + l4*(-(sin(q1)*sin(q2 + q3)*cos(q4) - sin(q4)*cos(q1))*sin(q5) + sin(q1)*cos(q5)*cos(q2 + q3))],\n",
       "[                                                l1 - l2*sin(q2) - l3*sin(q2 + q3) - l4*(sin(q5)*cos(q4)*cos(q2 + q3) + sin(q2 + q3)*cos(q5))]])"
      ]
     },
     "metadata": {},
     "output_type": "display_data"
    },
    {
     "data": {
      "text/plain": [
       "'Rotation matrix'"
      ]
     },
     "metadata": {},
     "output_type": "display_data"
    },
    {
     "data": {
      "text/latex": [
       "$\\displaystyle \\left[\\begin{matrix}\\left(\\left(\\sin{\\left(q_{1} \\right)} \\sin{\\left(q_{4} \\right)} + \\sin{\\left(q_{2} + q_{3} \\right)} \\cos{\\left(q_{1} \\right)} \\cos{\\left(q_{4} \\right)}\\right) \\cos{\\left(q_{5} \\right)} + \\sin{\\left(q_{5} \\right)} \\cos{\\left(q_{1} \\right)} \\cos{\\left(q_{2} + q_{3} \\right)}\\right) \\cos{\\left(q_{6} \\right)} + \\left(\\sin{\\left(q_{1} \\right)} \\cos{\\left(q_{4} \\right)} - \\sin{\\left(q_{4} \\right)} \\sin{\\left(q_{2} + q_{3} \\right)} \\cos{\\left(q_{1} \\right)}\\right) \\sin{\\left(q_{6} \\right)} & - \\left(\\left(\\sin{\\left(q_{1} \\right)} \\sin{\\left(q_{4} \\right)} + \\sin{\\left(q_{2} + q_{3} \\right)} \\cos{\\left(q_{1} \\right)} \\cos{\\left(q_{4} \\right)}\\right) \\cos{\\left(q_{5} \\right)} + \\sin{\\left(q_{5} \\right)} \\cos{\\left(q_{1} \\right)} \\cos{\\left(q_{2} + q_{3} \\right)}\\right) \\sin{\\left(q_{6} \\right)} + \\left(\\sin{\\left(q_{1} \\right)} \\cos{\\left(q_{4} \\right)} - \\sin{\\left(q_{4} \\right)} \\sin{\\left(q_{2} + q_{3} \\right)} \\cos{\\left(q_{1} \\right)}\\right) \\cos{\\left(q_{6} \\right)} & - \\left(\\sin{\\left(q_{1} \\right)} \\sin{\\left(q_{4} \\right)} + \\sin{\\left(q_{2} + q_{3} \\right)} \\cos{\\left(q_{1} \\right)} \\cos{\\left(q_{4} \\right)}\\right) \\sin{\\left(q_{5} \\right)} + \\cos{\\left(q_{1} \\right)} \\cos{\\left(q_{5} \\right)} \\cos{\\left(q_{2} + q_{3} \\right)}\\\\\\left(\\left(\\sin{\\left(q_{1} \\right)} \\sin{\\left(q_{2} + q_{3} \\right)} \\cos{\\left(q_{4} \\right)} - \\sin{\\left(q_{4} \\right)} \\cos{\\left(q_{1} \\right)}\\right) \\cos{\\left(q_{5} \\right)} + \\sin{\\left(q_{1} \\right)} \\sin{\\left(q_{5} \\right)} \\cos{\\left(q_{2} + q_{3} \\right)}\\right) \\cos{\\left(q_{6} \\right)} - \\left(\\sin{\\left(q_{1} \\right)} \\sin{\\left(q_{4} \\right)} \\sin{\\left(q_{2} + q_{3} \\right)} + \\cos{\\left(q_{1} \\right)} \\cos{\\left(q_{4} \\right)}\\right) \\sin{\\left(q_{6} \\right)} & - \\left(\\left(\\sin{\\left(q_{1} \\right)} \\sin{\\left(q_{2} + q_{3} \\right)} \\cos{\\left(q_{4} \\right)} - \\sin{\\left(q_{4} \\right)} \\cos{\\left(q_{1} \\right)}\\right) \\cos{\\left(q_{5} \\right)} + \\sin{\\left(q_{1} \\right)} \\sin{\\left(q_{5} \\right)} \\cos{\\left(q_{2} + q_{3} \\right)}\\right) \\sin{\\left(q_{6} \\right)} - \\left(\\sin{\\left(q_{1} \\right)} \\sin{\\left(q_{4} \\right)} \\sin{\\left(q_{2} + q_{3} \\right)} + \\cos{\\left(q_{1} \\right)} \\cos{\\left(q_{4} \\right)}\\right) \\cos{\\left(q_{6} \\right)} & - \\left(\\sin{\\left(q_{1} \\right)} \\sin{\\left(q_{2} + q_{3} \\right)} \\cos{\\left(q_{4} \\right)} - \\sin{\\left(q_{4} \\right)} \\cos{\\left(q_{1} \\right)}\\right) \\sin{\\left(q_{5} \\right)} + \\sin{\\left(q_{1} \\right)} \\cos{\\left(q_{5} \\right)} \\cos{\\left(q_{2} + q_{3} \\right)}\\\\\\left(- \\sin{\\left(q_{5} \\right)} \\sin{\\left(q_{2} + q_{3} \\right)} + \\cos{\\left(q_{4} \\right)} \\cos{\\left(q_{5} \\right)} \\cos{\\left(q_{2} + q_{3} \\right)}\\right) \\cos{\\left(q_{6} \\right)} - \\sin{\\left(q_{4} \\right)} \\sin{\\left(q_{6} \\right)} \\cos{\\left(q_{2} + q_{3} \\right)} & - \\left(- \\sin{\\left(q_{5} \\right)} \\sin{\\left(q_{2} + q_{3} \\right)} + \\cos{\\left(q_{4} \\right)} \\cos{\\left(q_{5} \\right)} \\cos{\\left(q_{2} + q_{3} \\right)}\\right) \\sin{\\left(q_{6} \\right)} - \\sin{\\left(q_{4} \\right)} \\cos{\\left(q_{6} \\right)} \\cos{\\left(q_{2} + q_{3} \\right)} & - \\sin{\\left(q_{5} \\right)} \\cos{\\left(q_{4} \\right)} \\cos{\\left(q_{2} + q_{3} \\right)} - \\sin{\\left(q_{2} + q_{3} \\right)} \\cos{\\left(q_{5} \\right)}\\end{matrix}\\right]$"
      ],
      "text/plain": [
       "Matrix([\n",
       "[((sin(q1)*sin(q4) + sin(q2 + q3)*cos(q1)*cos(q4))*cos(q5) + sin(q5)*cos(q1)*cos(q2 + q3))*cos(q6) + (sin(q1)*cos(q4) - sin(q4)*sin(q2 + q3)*cos(q1))*sin(q6), -((sin(q1)*sin(q4) + sin(q2 + q3)*cos(q1)*cos(q4))*cos(q5) + sin(q5)*cos(q1)*cos(q2 + q3))*sin(q6) + (sin(q1)*cos(q4) - sin(q4)*sin(q2 + q3)*cos(q1))*cos(q6), -(sin(q1)*sin(q4) + sin(q2 + q3)*cos(q1)*cos(q4))*sin(q5) + cos(q1)*cos(q5)*cos(q2 + q3)],\n",
       "[((sin(q1)*sin(q2 + q3)*cos(q4) - sin(q4)*cos(q1))*cos(q5) + sin(q1)*sin(q5)*cos(q2 + q3))*cos(q6) - (sin(q1)*sin(q4)*sin(q2 + q3) + cos(q1)*cos(q4))*sin(q6), -((sin(q1)*sin(q2 + q3)*cos(q4) - sin(q4)*cos(q1))*cos(q5) + sin(q1)*sin(q5)*cos(q2 + q3))*sin(q6) - (sin(q1)*sin(q4)*sin(q2 + q3) + cos(q1)*cos(q4))*cos(q6), -(sin(q1)*sin(q2 + q3)*cos(q4) - sin(q4)*cos(q1))*sin(q5) + sin(q1)*cos(q5)*cos(q2 + q3)],\n",
       "[                                                               (-sin(q5)*sin(q2 + q3) + cos(q4)*cos(q5)*cos(q2 + q3))*cos(q6) - sin(q4)*sin(q6)*cos(q2 + q3),                                                                -(-sin(q5)*sin(q2 + q3) + cos(q4)*cos(q5)*cos(q2 + q3))*sin(q6) - sin(q4)*cos(q6)*cos(q2 + q3),                                     -sin(q5)*cos(q4)*cos(q2 + q3) - sin(q2 + q3)*cos(q5)]])"
      ]
     },
     "metadata": {},
     "output_type": "display_data"
    },
    {
     "data": {
      "text/plain": [
       "'Euler ZYZ'"
      ]
     },
     "metadata": {},
     "output_type": "display_data"
    },
    {
     "data": {
      "text/latex": [
       "$\\displaystyle \\left[\\begin{matrix}- \\sin{\\left(a \\right)} \\sin{\\left(y \\right)} + \\cos{\\left(a \\right)} \\cos{\\left(p \\right)} \\cos{\\left(y \\right)} & - \\sin{\\left(a \\right)} \\cos{\\left(y \\right)} - \\sin{\\left(y \\right)} \\cos{\\left(a \\right)} \\cos{\\left(p \\right)} & \\sin{\\left(p \\right)} \\cos{\\left(a \\right)}\\\\\\sin{\\left(a \\right)} \\cos{\\left(p \\right)} \\cos{\\left(y \\right)} + \\sin{\\left(y \\right)} \\cos{\\left(a \\right)} & - \\sin{\\left(a \\right)} \\sin{\\left(y \\right)} \\cos{\\left(p \\right)} + \\cos{\\left(a \\right)} \\cos{\\left(y \\right)} & \\sin{\\left(a \\right)} \\sin{\\left(p \\right)}\\\\- \\sin{\\left(p \\right)} \\cos{\\left(y \\right)} & \\sin{\\left(p \\right)} \\sin{\\left(y \\right)} & \\cos{\\left(p \\right)}\\end{matrix}\\right]$"
      ],
      "text/plain": [
       "Matrix([\n",
       "[-sin(a)*sin(y) + cos(a)*cos(p)*cos(y), -sin(a)*cos(y) - sin(y)*cos(a)*cos(p), sin(p)*cos(a)],\n",
       "[ sin(a)*cos(p)*cos(y) + sin(y)*cos(a), -sin(a)*sin(y)*cos(p) + cos(a)*cos(y), sin(a)*sin(p)],\n",
       "[                       -sin(p)*cos(y),                         sin(p)*sin(y),        cos(p)]])"
      ]
     },
     "metadata": {},
     "output_type": "display_data"
    },
    {
     "data": {
      "text/plain": [
       "'Representation angles'"
      ]
     },
     "metadata": {},
     "output_type": "display_data"
    },
    {
     "data": {
      "text/latex": [
       "$\\displaystyle - \\operatorname{acos}{\\left(- \\sin{\\left(q_{5} \\right)} \\cos{\\left(q_{4} \\right)} \\cos{\\left(q_{2} + q_{3} \\right)} - \\sin{\\left(q_{2} + q_{3} \\right)} \\cos{\\left(q_{5} \\right)} \\right)} + 2 \\pi$"
      ],
      "text/plain": [
       "-acos(-sin(q5)*cos(q4)*cos(q2 + q3) - sin(q2 + q3)*cos(q5)) + 2*pi"
      ]
     },
     "metadata": {},
     "output_type": "display_data"
    },
    {
     "data": {
      "text/latex": [
       "$\\displaystyle \\operatorname{acos}{\\left(- \\sin{\\left(q_{5} \\right)} \\cos{\\left(q_{4} \\right)} \\cos{\\left(q_{2} + q_{3} \\right)} - \\sin{\\left(q_{2} + q_{3} \\right)} \\cos{\\left(q_{5} \\right)} \\right)}$"
      ],
      "text/plain": [
       "acos(-sin(q5)*cos(q4)*cos(q2 + q3) - sin(q2 + q3)*cos(q5))"
      ]
     },
     "metadata": {},
     "output_type": "display_data"
    },
    {
     "data": {
      "text/latex": [
       "$\\displaystyle - \\operatorname{acos}{\\left(- \\frac{- \\sin{\\left(q_{1} \\right)} \\sin{\\left(q_{5} \\right)} \\sin{\\left(q_{2} + q_{3} \\right)} \\cos{\\left(q_{4} \\right)} + \\sin{\\left(q_{1} \\right)} \\cos{\\left(q_{5} \\right)} \\cos{\\left(q_{2} + q_{3} \\right)} + \\sin{\\left(q_{4} \\right)} \\sin{\\left(q_{5} \\right)} \\cos{\\left(q_{1} \\right)}}{\\sqrt{- \\left(\\sin{\\left(q_{5} \\right)} \\cos{\\left(q_{4} \\right)} \\cos{\\left(q_{2} + q_{3} \\right)} + \\sin{\\left(q_{2} + q_{3} \\right)} \\cos{\\left(q_{5} \\right)} - 1\\right) \\left(\\sin{\\left(q_{5} \\right)} \\cos{\\left(q_{4} \\right)} \\cos{\\left(q_{2} + q_{3} \\right)} + \\sin{\\left(q_{2} + q_{3} \\right)} \\cos{\\left(q_{5} \\right)} + 1\\right)}} \\right)} + 2 \\pi$"
      ],
      "text/plain": [
       "-acos(-(-sin(q1)*sin(q5)*sin(q2 + q3)*cos(q4) + sin(q1)*cos(q5)*cos(q2 + q3) + sin(q4)*sin(q5)*cos(q1))/sqrt(-(sin(q5)*cos(q4)*cos(q2 + q3) + sin(q2 + q3)*cos(q5) - 1)*(sin(q5)*cos(q4)*cos(q2 + q3) + sin(q2 + q3)*cos(q5) + 1))) + 2*pi"
      ]
     },
     "metadata": {},
     "output_type": "display_data"
    },
    {
     "data": {
      "text/latex": [
       "$\\displaystyle \\operatorname{acos}{\\left(\\frac{\\sin{\\left(q_{1} \\right)} \\sin{\\left(q_{5} \\right)} \\sin{\\left(q_{2} + q_{3} \\right)} \\cos{\\left(q_{4} \\right)} - \\sin{\\left(q_{1} \\right)} \\cos{\\left(q_{5} \\right)} \\cos{\\left(q_{2} + q_{3} \\right)} - \\sin{\\left(q_{4} \\right)} \\sin{\\left(q_{5} \\right)} \\cos{\\left(q_{1} \\right)}}{\\sqrt{- \\left(\\sin{\\left(q_{5} \\right)} \\cos{\\left(q_{4} \\right)} \\cos{\\left(q_{2} + q_{3} \\right)} + \\sin{\\left(q_{2} + q_{3} \\right)} \\cos{\\left(q_{5} \\right)} - 1\\right) \\left(\\sin{\\left(q_{5} \\right)} \\cos{\\left(q_{4} \\right)} \\cos{\\left(q_{2} + q_{3} \\right)} + \\sin{\\left(q_{2} + q_{3} \\right)} \\cos{\\left(q_{5} \\right)} + 1\\right)}} \\right)}$"
      ],
      "text/plain": [
       "acos((sin(q1)*sin(q5)*sin(q2 + q3)*cos(q4) - sin(q1)*cos(q5)*cos(q2 + q3) - sin(q4)*sin(q5)*cos(q1))/sqrt(-(sin(q5)*cos(q4)*cos(q2 + q3) + sin(q2 + q3)*cos(q5) - 1)*(sin(q5)*cos(q4)*cos(q2 + q3) + sin(q2 + q3)*cos(q5) + 1)))"
      ]
     },
     "metadata": {},
     "output_type": "display_data"
    },
    {
     "data": {
      "text/latex": [
       "$\\displaystyle - \\operatorname{acos}{\\left(\\frac{- \\sin{\\left(q_{1} \\right)} \\sin{\\left(q_{5} \\right)} \\sin{\\left(q_{2} + q_{3} \\right)} \\cos{\\left(q_{4} \\right)} + \\sin{\\left(q_{1} \\right)} \\cos{\\left(q_{5} \\right)} \\cos{\\left(q_{2} + q_{3} \\right)} + \\sin{\\left(q_{4} \\right)} \\sin{\\left(q_{5} \\right)} \\cos{\\left(q_{1} \\right)}}{\\sqrt{- \\left(\\sin{\\left(q_{5} \\right)} \\cos{\\left(q_{4} \\right)} \\cos{\\left(q_{2} + q_{3} \\right)} + \\sin{\\left(q_{2} + q_{3} \\right)} \\cos{\\left(q_{5} \\right)} - 1\\right) \\left(\\sin{\\left(q_{5} \\right)} \\cos{\\left(q_{4} \\right)} \\cos{\\left(q_{2} + q_{3} \\right)} + \\sin{\\left(q_{2} + q_{3} \\right)} \\cos{\\left(q_{5} \\right)} + 1\\right)}} \\right)} + 2 \\pi$"
      ],
      "text/plain": [
       "-acos((-sin(q1)*sin(q5)*sin(q2 + q3)*cos(q4) + sin(q1)*cos(q5)*cos(q2 + q3) + sin(q4)*sin(q5)*cos(q1))/sqrt(-(sin(q5)*cos(q4)*cos(q2 + q3) + sin(q2 + q3)*cos(q5) - 1)*(sin(q5)*cos(q4)*cos(q2 + q3) + sin(q2 + q3)*cos(q5) + 1))) + 2*pi"
      ]
     },
     "metadata": {},
     "output_type": "display_data"
    },
    {
     "data": {
      "text/latex": [
       "$\\displaystyle \\operatorname{acos}{\\left(\\frac{- \\sin{\\left(q_{1} \\right)} \\sin{\\left(q_{5} \\right)} \\sin{\\left(q_{2} + q_{3} \\right)} \\cos{\\left(q_{4} \\right)} + \\sin{\\left(q_{1} \\right)} \\cos{\\left(q_{5} \\right)} \\cos{\\left(q_{2} + q_{3} \\right)} + \\sin{\\left(q_{4} \\right)} \\sin{\\left(q_{5} \\right)} \\cos{\\left(q_{1} \\right)}}{\\sqrt{- \\left(\\sin{\\left(q_{5} \\right)} \\cos{\\left(q_{4} \\right)} \\cos{\\left(q_{2} + q_{3} \\right)} + \\sin{\\left(q_{2} + q_{3} \\right)} \\cos{\\left(q_{5} \\right)} - 1\\right) \\left(\\sin{\\left(q_{5} \\right)} \\cos{\\left(q_{4} \\right)} \\cos{\\left(q_{2} + q_{3} \\right)} + \\sin{\\left(q_{2} + q_{3} \\right)} \\cos{\\left(q_{5} \\right)} + 1\\right)}} \\right)}$"
      ],
      "text/plain": [
       "acos((-sin(q1)*sin(q5)*sin(q2 + q3)*cos(q4) + sin(q1)*cos(q5)*cos(q2 + q3) + sin(q4)*sin(q5)*cos(q1))/sqrt(-(sin(q5)*cos(q4)*cos(q2 + q3) + sin(q2 + q3)*cos(q5) - 1)*(sin(q5)*cos(q4)*cos(q2 + q3) + sin(q2 + q3)*cos(q5) + 1)))"
      ]
     },
     "metadata": {},
     "output_type": "display_data"
    },
    {
     "data": {
      "text/latex": [
       "$\\displaystyle \\pi - \\operatorname{asin}{\\left(\\frac{\\sin{\\left(q_{4} \\right)} \\cos{\\left(q_{6} \\right)} \\cos{\\left(q_{2} + q_{3} \\right)} - \\sin{\\left(q_{5} \\right)} \\sin{\\left(q_{6} \\right)} \\sin{\\left(q_{2} + q_{3} \\right)} + \\sin{\\left(q_{6} \\right)} \\cos{\\left(q_{4} \\right)} \\cos{\\left(q_{5} \\right)} \\cos{\\left(q_{2} + q_{3} \\right)}}{\\sqrt{- \\left(\\sin{\\left(q_{5} \\right)} \\cos{\\left(q_{4} \\right)} \\cos{\\left(q_{2} + q_{3} \\right)} + \\sin{\\left(q_{2} + q_{3} \\right)} \\cos{\\left(q_{5} \\right)} - 1\\right) \\left(\\sin{\\left(q_{5} \\right)} \\cos{\\left(q_{4} \\right)} \\cos{\\left(q_{2} + q_{3} \\right)} + \\sin{\\left(q_{2} + q_{3} \\right)} \\cos{\\left(q_{5} \\right)} + 1\\right)}} \\right)}$"
      ],
      "text/plain": [
       "pi - asin((sin(q4)*cos(q6)*cos(q2 + q3) - sin(q5)*sin(q6)*sin(q2 + q3) + sin(q6)*cos(q4)*cos(q5)*cos(q2 + q3))/sqrt(-(sin(q5)*cos(q4)*cos(q2 + q3) + sin(q2 + q3)*cos(q5) - 1)*(sin(q5)*cos(q4)*cos(q2 + q3) + sin(q2 + q3)*cos(q5) + 1)))"
      ]
     },
     "metadata": {},
     "output_type": "display_data"
    },
    {
     "data": {
      "text/latex": [
       "$\\displaystyle \\operatorname{asin}{\\left(\\frac{\\sin{\\left(q_{4} \\right)} \\cos{\\left(q_{6} \\right)} \\cos{\\left(q_{2} + q_{3} \\right)} - \\sin{\\left(q_{5} \\right)} \\sin{\\left(q_{6} \\right)} \\sin{\\left(q_{2} + q_{3} \\right)} + \\sin{\\left(q_{6} \\right)} \\cos{\\left(q_{4} \\right)} \\cos{\\left(q_{5} \\right)} \\cos{\\left(q_{2} + q_{3} \\right)}}{\\sqrt{- \\left(\\sin{\\left(q_{5} \\right)} \\cos{\\left(q_{4} \\right)} \\cos{\\left(q_{2} + q_{3} \\right)} + \\sin{\\left(q_{2} + q_{3} \\right)} \\cos{\\left(q_{5} \\right)} - 1\\right) \\left(\\sin{\\left(q_{5} \\right)} \\cos{\\left(q_{4} \\right)} \\cos{\\left(q_{2} + q_{3} \\right)} + \\sin{\\left(q_{2} + q_{3} \\right)} \\cos{\\left(q_{5} \\right)} + 1\\right)}} \\right)}$"
      ],
      "text/plain": [
       "asin((sin(q4)*cos(q6)*cos(q2 + q3) - sin(q5)*sin(q6)*sin(q2 + q3) + sin(q6)*cos(q4)*cos(q5)*cos(q2 + q3))/sqrt(-(sin(q5)*cos(q4)*cos(q2 + q3) + sin(q2 + q3)*cos(q5) - 1)*(sin(q5)*cos(q4)*cos(q2 + q3) + sin(q2 + q3)*cos(q5) + 1)))"
      ]
     },
     "metadata": {},
     "output_type": "display_data"
    },
    {
     "data": {
      "text/latex": [
       "$\\displaystyle \\operatorname{asin}{\\left(\\frac{\\sin{\\left(q_{4} \\right)} \\cos{\\left(q_{6} \\right)} \\cos{\\left(q_{2} + q_{3} \\right)} - \\sin{\\left(q_{5} \\right)} \\sin{\\left(q_{6} \\right)} \\sin{\\left(q_{2} + q_{3} \\right)} + \\sin{\\left(q_{6} \\right)} \\cos{\\left(q_{4} \\right)} \\cos{\\left(q_{5} \\right)} \\cos{\\left(q_{2} + q_{3} \\right)}}{\\sqrt{- \\left(\\sin{\\left(q_{5} \\right)} \\cos{\\left(q_{4} \\right)} \\cos{\\left(q_{2} + q_{3} \\right)} + \\sin{\\left(q_{2} + q_{3} \\right)} \\cos{\\left(q_{5} \\right)} - 1\\right) \\left(\\sin{\\left(q_{5} \\right)} \\cos{\\left(q_{4} \\right)} \\cos{\\left(q_{2} + q_{3} \\right)} + \\sin{\\left(q_{2} + q_{3} \\right)} \\cos{\\left(q_{5} \\right)} + 1\\right)}} \\right)} + \\pi$"
      ],
      "text/plain": [
       "asin((sin(q4)*cos(q6)*cos(q2 + q3) - sin(q5)*sin(q6)*sin(q2 + q3) + sin(q6)*cos(q4)*cos(q5)*cos(q2 + q3))/sqrt(-(sin(q5)*cos(q4)*cos(q2 + q3) + sin(q2 + q3)*cos(q5) - 1)*(sin(q5)*cos(q4)*cos(q2 + q3) + sin(q2 + q3)*cos(q5) + 1))) + pi"
      ]
     },
     "metadata": {},
     "output_type": "display_data"
    },
    {
     "data": {
      "text/latex": [
       "$\\displaystyle - \\operatorname{asin}{\\left(\\frac{\\sin{\\left(q_{4} \\right)} \\cos{\\left(q_{6} \\right)} \\cos{\\left(q_{2} + q_{3} \\right)} - \\sin{\\left(q_{5} \\right)} \\sin{\\left(q_{6} \\right)} \\sin{\\left(q_{2} + q_{3} \\right)} + \\sin{\\left(q_{6} \\right)} \\cos{\\left(q_{4} \\right)} \\cos{\\left(q_{5} \\right)} \\cos{\\left(q_{2} + q_{3} \\right)}}{\\sqrt{- \\left(\\sin{\\left(q_{5} \\right)} \\cos{\\left(q_{4} \\right)} \\cos{\\left(q_{2} + q_{3} \\right)} + \\sin{\\left(q_{2} + q_{3} \\right)} \\cos{\\left(q_{5} \\right)} - 1\\right) \\left(\\sin{\\left(q_{5} \\right)} \\cos{\\left(q_{4} \\right)} \\cos{\\left(q_{2} + q_{3} \\right)} + \\sin{\\left(q_{2} + q_{3} \\right)} \\cos{\\left(q_{5} \\right)} + 1\\right)}} \\right)}$"
      ],
      "text/plain": [
       "-asin((sin(q4)*cos(q6)*cos(q2 + q3) - sin(q5)*sin(q6)*sin(q2 + q3) + sin(q6)*cos(q4)*cos(q5)*cos(q2 + q3))/sqrt(-(sin(q5)*cos(q4)*cos(q2 + q3) + sin(q2 + q3)*cos(q5) - 1)*(sin(q5)*cos(q4)*cos(q2 + q3) + sin(q2 + q3)*cos(q5) + 1)))"
      ]
     },
     "metadata": {},
     "output_type": "display_data"
    },
    {
     "data": {
      "text/latex": [
       "$\\displaystyle - \\operatorname{acos}{\\left(\\frac{\\sin{\\left(q_{4} \\right)} \\sin{\\left(q_{6} \\right)} \\cos{\\left(q_{2} + q_{3} \\right)} + \\sin{\\left(q_{5} \\right)} \\sin{\\left(q_{2} + q_{3} \\right)} \\cos{\\left(q_{6} \\right)} - \\cos{\\left(q_{4} \\right)} \\cos{\\left(q_{5} \\right)} \\cos{\\left(q_{6} \\right)} \\cos{\\left(q_{2} + q_{3} \\right)}}{\\sqrt{- \\left(\\sin{\\left(q_{5} \\right)} \\cos{\\left(q_{4} \\right)} \\cos{\\left(q_{2} + q_{3} \\right)} + \\sin{\\left(q_{2} + q_{3} \\right)} \\cos{\\left(q_{5} \\right)} - 1\\right) \\left(\\sin{\\left(q_{5} \\right)} \\cos{\\left(q_{4} \\right)} \\cos{\\left(q_{2} + q_{3} \\right)} + \\sin{\\left(q_{2} + q_{3} \\right)} \\cos{\\left(q_{5} \\right)} + 1\\right)}} \\right)} + 2 \\pi$"
      ],
      "text/plain": [
       "-acos((sin(q4)*sin(q6)*cos(q2 + q3) + sin(q5)*sin(q2 + q3)*cos(q6) - cos(q4)*cos(q5)*cos(q6)*cos(q2 + q3))/sqrt(-(sin(q5)*cos(q4)*cos(q2 + q3) + sin(q2 + q3)*cos(q5) - 1)*(sin(q5)*cos(q4)*cos(q2 + q3) + sin(q2 + q3)*cos(q5) + 1))) + 2*pi"
      ]
     },
     "metadata": {},
     "output_type": "display_data"
    },
    {
     "data": {
      "text/latex": [
       "$\\displaystyle \\operatorname{acos}{\\left(\\frac{\\sin{\\left(q_{4} \\right)} \\sin{\\left(q_{6} \\right)} \\cos{\\left(q_{2} + q_{3} \\right)} + \\sin{\\left(q_{5} \\right)} \\sin{\\left(q_{2} + q_{3} \\right)} \\cos{\\left(q_{6} \\right)} - \\cos{\\left(q_{4} \\right)} \\cos{\\left(q_{5} \\right)} \\cos{\\left(q_{6} \\right)} \\cos{\\left(q_{2} + q_{3} \\right)}}{\\sqrt{- \\left(\\sin{\\left(q_{5} \\right)} \\cos{\\left(q_{4} \\right)} \\cos{\\left(q_{2} + q_{3} \\right)} + \\sin{\\left(q_{2} + q_{3} \\right)} \\cos{\\left(q_{5} \\right)} - 1\\right) \\left(\\sin{\\left(q_{5} \\right)} \\cos{\\left(q_{4} \\right)} \\cos{\\left(q_{2} + q_{3} \\right)} + \\sin{\\left(q_{2} + q_{3} \\right)} \\cos{\\left(q_{5} \\right)} + 1\\right)}} \\right)}$"
      ],
      "text/plain": [
       "acos((sin(q4)*sin(q6)*cos(q2 + q3) + sin(q5)*sin(q2 + q3)*cos(q6) - cos(q4)*cos(q5)*cos(q6)*cos(q2 + q3))/sqrt(-(sin(q5)*cos(q4)*cos(q2 + q3) + sin(q2 + q3)*cos(q5) - 1)*(sin(q5)*cos(q4)*cos(q2 + q3) + sin(q2 + q3)*cos(q5) + 1)))"
      ]
     },
     "metadata": {},
     "output_type": "display_data"
    },
    {
     "data": {
      "text/latex": [
       "$\\displaystyle - \\operatorname{acos}{\\left(- \\frac{\\sin{\\left(q_{4} \\right)} \\sin{\\left(q_{6} \\right)} \\cos{\\left(q_{2} + q_{3} \\right)} + \\sin{\\left(q_{5} \\right)} \\sin{\\left(q_{2} + q_{3} \\right)} \\cos{\\left(q_{6} \\right)} - \\cos{\\left(q_{4} \\right)} \\cos{\\left(q_{5} \\right)} \\cos{\\left(q_{6} \\right)} \\cos{\\left(q_{2} + q_{3} \\right)}}{\\sqrt{- \\left(\\sin{\\left(q_{5} \\right)} \\cos{\\left(q_{4} \\right)} \\cos{\\left(q_{2} + q_{3} \\right)} + \\sin{\\left(q_{2} + q_{3} \\right)} \\cos{\\left(q_{5} \\right)} - 1\\right) \\left(\\sin{\\left(q_{5} \\right)} \\cos{\\left(q_{4} \\right)} \\cos{\\left(q_{2} + q_{3} \\right)} + \\sin{\\left(q_{2} + q_{3} \\right)} \\cos{\\left(q_{5} \\right)} + 1\\right)}} \\right)} + 2 \\pi$"
      ],
      "text/plain": [
       "-acos(-(sin(q4)*sin(q6)*cos(q2 + q3) + sin(q5)*sin(q2 + q3)*cos(q6) - cos(q4)*cos(q5)*cos(q6)*cos(q2 + q3))/sqrt(-(sin(q5)*cos(q4)*cos(q2 + q3) + sin(q2 + q3)*cos(q5) - 1)*(sin(q5)*cos(q4)*cos(q2 + q3) + sin(q2 + q3)*cos(q5) + 1))) + 2*pi"
      ]
     },
     "metadata": {},
     "output_type": "display_data"
    },
    {
     "data": {
      "text/latex": [
       "$\\displaystyle \\operatorname{acos}{\\left(\\frac{- \\sin{\\left(q_{4} \\right)} \\sin{\\left(q_{6} \\right)} \\cos{\\left(q_{2} + q_{3} \\right)} - \\sin{\\left(q_{5} \\right)} \\sin{\\left(q_{2} + q_{3} \\right)} \\cos{\\left(q_{6} \\right)} + \\cos{\\left(q_{4} \\right)} \\cos{\\left(q_{5} \\right)} \\cos{\\left(q_{6} \\right)} \\cos{\\left(q_{2} + q_{3} \\right)}}{\\sqrt{- \\left(\\sin{\\left(q_{5} \\right)} \\cos{\\left(q_{4} \\right)} \\cos{\\left(q_{2} + q_{3} \\right)} + \\sin{\\left(q_{2} + q_{3} \\right)} \\cos{\\left(q_{5} \\right)} - 1\\right) \\left(\\sin{\\left(q_{5} \\right)} \\cos{\\left(q_{4} \\right)} \\cos{\\left(q_{2} + q_{3} \\right)} + \\sin{\\left(q_{2} + q_{3} \\right)} \\cos{\\left(q_{5} \\right)} + 1\\right)}} \\right)}$"
      ],
      "text/plain": [
       "acos((-sin(q4)*sin(q6)*cos(q2 + q3) - sin(q5)*sin(q2 + q3)*cos(q6) + cos(q4)*cos(q5)*cos(q6)*cos(q2 + q3))/sqrt(-(sin(q5)*cos(q4)*cos(q2 + q3) + sin(q2 + q3)*cos(q5) - 1)*(sin(q5)*cos(q4)*cos(q2 + q3) + sin(q2 + q3)*cos(q5) + 1)))"
      ]
     },
     "metadata": {},
     "output_type": "display_data"
    },
    {
     "data": {
      "text/latex": [
       "$\\displaystyle - \\operatorname{acos}{\\left(- \\frac{\\sin{\\left(q_{1} \\right)} \\sin{\\left(q_{4} \\right)} \\sin{\\left(q_{5} \\right)} + \\sin{\\left(q_{5} \\right)} \\sin{\\left(q_{2} + q_{3} \\right)} \\cos{\\left(q_{1} \\right)} \\cos{\\left(q_{4} \\right)} - \\cos{\\left(q_{1} \\right)} \\cos{\\left(q_{5} \\right)} \\cos{\\left(q_{2} + q_{3} \\right)}}{\\sqrt{- \\left(\\sin{\\left(q_{5} \\right)} \\cos{\\left(q_{4} \\right)} \\cos{\\left(q_{2} + q_{3} \\right)} + \\sin{\\left(q_{2} + q_{3} \\right)} \\cos{\\left(q_{5} \\right)} - 1\\right) \\left(\\sin{\\left(q_{5} \\right)} \\cos{\\left(q_{4} \\right)} \\cos{\\left(q_{2} + q_{3} \\right)} + \\sin{\\left(q_{2} + q_{3} \\right)} \\cos{\\left(q_{5} \\right)} + 1\\right)}} \\right)} + 2 \\pi$"
      ],
      "text/plain": [
       "-acos(-(sin(q1)*sin(q4)*sin(q5) + sin(q5)*sin(q2 + q3)*cos(q1)*cos(q4) - cos(q1)*cos(q5)*cos(q2 + q3))/sqrt(-(sin(q5)*cos(q4)*cos(q2 + q3) + sin(q2 + q3)*cos(q5) - 1)*(sin(q5)*cos(q4)*cos(q2 + q3) + sin(q2 + q3)*cos(q5) + 1))) + 2*pi"
      ]
     },
     "metadata": {},
     "output_type": "display_data"
    },
    {
     "data": {
      "text/latex": [
       "$\\displaystyle \\operatorname{acos}{\\left(\\frac{- \\sin{\\left(q_{1} \\right)} \\sin{\\left(q_{4} \\right)} \\sin{\\left(q_{5} \\right)} - \\sin{\\left(q_{5} \\right)} \\sin{\\left(q_{2} + q_{3} \\right)} \\cos{\\left(q_{1} \\right)} \\cos{\\left(q_{4} \\right)} + \\cos{\\left(q_{1} \\right)} \\cos{\\left(q_{5} \\right)} \\cos{\\left(q_{2} + q_{3} \\right)}}{\\sqrt{- \\left(\\sin{\\left(q_{5} \\right)} \\cos{\\left(q_{4} \\right)} \\cos{\\left(q_{2} + q_{3} \\right)} + \\sin{\\left(q_{2} + q_{3} \\right)} \\cos{\\left(q_{5} \\right)} - 1\\right) \\left(\\sin{\\left(q_{5} \\right)} \\cos{\\left(q_{4} \\right)} \\cos{\\left(q_{2} + q_{3} \\right)} + \\sin{\\left(q_{2} + q_{3} \\right)} \\cos{\\left(q_{5} \\right)} + 1\\right)}} \\right)}$"
      ],
      "text/plain": [
       "acos((-sin(q1)*sin(q4)*sin(q5) - sin(q5)*sin(q2 + q3)*cos(q1)*cos(q4) + cos(q1)*cos(q5)*cos(q2 + q3))/sqrt(-(sin(q5)*cos(q4)*cos(q2 + q3) + sin(q2 + q3)*cos(q5) - 1)*(sin(q5)*cos(q4)*cos(q2 + q3) + sin(q2 + q3)*cos(q5) + 1)))"
      ]
     },
     "metadata": {},
     "output_type": "display_data"
    },
    {
     "data": {
      "text/latex": [
       "$\\displaystyle - \\operatorname{acos}{\\left(\\frac{\\sin{\\left(q_{1} \\right)} \\sin{\\left(q_{4} \\right)} \\sin{\\left(q_{5} \\right)} + \\sin{\\left(q_{5} \\right)} \\sin{\\left(q_{2} + q_{3} \\right)} \\cos{\\left(q_{1} \\right)} \\cos{\\left(q_{4} \\right)} - \\cos{\\left(q_{1} \\right)} \\cos{\\left(q_{5} \\right)} \\cos{\\left(q_{2} + q_{3} \\right)}}{\\sqrt{- \\left(\\sin{\\left(q_{5} \\right)} \\cos{\\left(q_{4} \\right)} \\cos{\\left(q_{2} + q_{3} \\right)} + \\sin{\\left(q_{2} + q_{3} \\right)} \\cos{\\left(q_{5} \\right)} - 1\\right) \\left(\\sin{\\left(q_{5} \\right)} \\cos{\\left(q_{4} \\right)} \\cos{\\left(q_{2} + q_{3} \\right)} + \\sin{\\left(q_{2} + q_{3} \\right)} \\cos{\\left(q_{5} \\right)} + 1\\right)}} \\right)} + 2 \\pi$"
      ],
      "text/plain": [
       "-acos((sin(q1)*sin(q4)*sin(q5) + sin(q5)*sin(q2 + q3)*cos(q1)*cos(q4) - cos(q1)*cos(q5)*cos(q2 + q3))/sqrt(-(sin(q5)*cos(q4)*cos(q2 + q3) + sin(q2 + q3)*cos(q5) - 1)*(sin(q5)*cos(q4)*cos(q2 + q3) + sin(q2 + q3)*cos(q5) + 1))) + 2*pi"
      ]
     },
     "metadata": {},
     "output_type": "display_data"
    },
    {
     "data": {
      "text/latex": [
       "$\\displaystyle \\operatorname{acos}{\\left(\\frac{\\sin{\\left(q_{1} \\right)} \\sin{\\left(q_{4} \\right)} \\sin{\\left(q_{5} \\right)} + \\sin{\\left(q_{5} \\right)} \\sin{\\left(q_{2} + q_{3} \\right)} \\cos{\\left(q_{1} \\right)} \\cos{\\left(q_{4} \\right)} - \\cos{\\left(q_{1} \\right)} \\cos{\\left(q_{5} \\right)} \\cos{\\left(q_{2} + q_{3} \\right)}}{\\sqrt{- \\left(\\sin{\\left(q_{5} \\right)} \\cos{\\left(q_{4} \\right)} \\cos{\\left(q_{2} + q_{3} \\right)} + \\sin{\\left(q_{2} + q_{3} \\right)} \\cos{\\left(q_{5} \\right)} - 1\\right) \\left(\\sin{\\left(q_{5} \\right)} \\cos{\\left(q_{4} \\right)} \\cos{\\left(q_{2} + q_{3} \\right)} + \\sin{\\left(q_{2} + q_{3} \\right)} \\cos{\\left(q_{5} \\right)} + 1\\right)}} \\right)}$"
      ],
      "text/plain": [
       "acos((sin(q1)*sin(q4)*sin(q5) + sin(q5)*sin(q2 + q3)*cos(q1)*cos(q4) - cos(q1)*cos(q5)*cos(q2 + q3))/sqrt(-(sin(q5)*cos(q4)*cos(q2 + q3) + sin(q2 + q3)*cos(q5) - 1)*(sin(q5)*cos(q4)*cos(q2 + q3) + sin(q2 + q3)*cos(q5) + 1)))"
      ]
     },
     "metadata": {},
     "output_type": "display_data"
    }
   ],
   "source": [
    "from sim import  ForwardKinematic6axisModel, KinamticsMatrices\n",
    "from IPython.display import display\n",
    "import sympy as sp\n",
    "\n",
    "model = ForwardKinematic6axisModel(145, 375, 375, 150)\n",
    "pos =  model.get_pos_equasion()\n",
    "pos = sp.trigsimp(pos) # simplify the equation using trigonometric identities\n",
    "display(\"Positions\")\n",
    "display(pos)\n",
    "rot = model.get_rotation_matrix_equasion()\n",
    "rot = sp.trigsimp(rot) # simplify the equation using trigonometric identities\n",
    "display(\"Rotation matrix\")\n",
    "display(rot)\n",
    "\n",
    "r = sp.symbols('a')\n",
    "p = sp.symbols('p')\n",
    "y = sp.symbols('y')\n",
    "zyz = KinamticsMatrices.EulerZYZToRotationMatrix(r,p,y)\n",
    "display(\"Euler ZYZ\")\n",
    "display(zyz)\n",
    "\n",
    "sol = model.get_representation_angles()\n",
    "display(\"Representation angles\")\n",
    "for s in sol:\n",
    "  display(s)\n",
    "\n"
   ]
  },
  {
   "cell_type": "code",
   "execution_count": null,
   "metadata": {},
   "outputs": [],
   "source": []
  },
  {
   "cell_type": "markdown",
   "metadata": {},
   "source": [
    "## Visualziation of the robot arm"
   ]
  },
  {
   "cell_type": "code",
   "execution_count": null,
   "metadata": {},
   "outputs": [],
   "source": [
    "from sim import  ForwardKinematic6axisModel, Kinematic6axisVisaulization\n",
    "import numpy as np\n",
    "\n",
    "model = ForwardKinematic6axisModel(145, 375, 375, 150)\n",
    "visualizer = Kinematic6axisVisaulization(model,arrow_length=40)\n",
    "h = np.pi/2\n",
    "visualizer.set_angles(0,-h -0.3 ,h , h ,h,0)\n",
    "visualizer.plot()"
   ]
  },
  {
   "cell_type": "code",
   "execution_count": null,
   "metadata": {},
   "outputs": [],
   "source": []
  },
  {
   "cell_type": "markdown",
   "metadata": {},
   "source": []
  }
 ],
 "metadata": {
  "kernelspec": {
   "display_name": ".venv",
   "language": "python",
   "name": "python3"
  },
  "language_info": {
   "codemirror_mode": {
    "name": "ipython",
    "version": 3
   },
   "file_extension": ".py",
   "mimetype": "text/x-python",
   "name": "python",
   "nbconvert_exporter": "python",
   "pygments_lexer": "ipython3",
   "version": "3.10.12"
  }
 },
 "nbformat": 4,
 "nbformat_minor": 2
}
